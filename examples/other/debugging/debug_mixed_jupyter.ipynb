{
 "cells": [
  {
   "cell_type": "markdown",
   "id": "0",
   "metadata": {},
   "source": [
    "# Rust - Python Mixed Debugging Example\n",
    "\n",
    "This notebook demonstrates mixed Python + Rust debugging.  \n",
    "You need to execute this notebook from within VSCode.  \n",
    "See the nautilus_trader \"Testing\" developer guide for more instructions."
   ]
  },
  {
   "cell_type": "code",
   "execution_count": 5,
   "id": "1",
   "metadata": {},
   "outputs": [
    {
     "ename": "RuntimeError",
     "evalue": "debugpy.listen() has already been called on this process",
     "output_type": "error",
     "traceback": [
      "\u001b[31m---------------------------------------------------------------------------\u001b[39m",
      "\u001b[31mRuntimeError\u001b[39m                              Traceback (most recent call last)",
      "\u001b[36mCell\u001b[39m\u001b[36m \u001b[39m\u001b[32mIn[5]\u001b[39m\u001b[32m, line 8\u001b[39m\n\u001b[32m      2\u001b[39m \u001b[38;5;28;01mfrom\u001b[39;00m\u001b[38;5;250m \u001b[39m\u001b[34;01mnautilus_trader\u001b[39;00m\u001b[34;01m.\u001b[39;00m\u001b[34;01mtest_kit\u001b[39;00m\u001b[34;01m.\u001b[39;00m\u001b[34;01mdebug_helpers\u001b[39;00m\u001b[38;5;250m \u001b[39m\u001b[38;5;28;01mimport\u001b[39;00m setup_debugging\n\u001b[32m      5\u001b[39m \u001b[38;5;66;03m# Set up debugging for VS Code (configures launch.json with Jupyter kernel PID)\u001b[39;00m\n\u001b[32m      6\u001b[39m \u001b[38;5;66;03m# This creates ALL debugging configurations automatically!\u001b[39;00m\n\u001b[32m      7\u001b[39m \u001b[38;5;66;03m# Also starts a debugpy sever the Python debugger can connect to\u001b[39;00m\n\u001b[32m----> \u001b[39m\u001b[32m8\u001b[39m \u001b[43msetup_debugging\u001b[49m\u001b[43m(\u001b[49m\u001b[43m)\u001b[49m\n",
      "\u001b[36mFile \u001b[39m\u001b[32m~/github/nautilus_trader/nautilus_trader/test_kit/debug_helpers.py:28\u001b[39m, in \u001b[36msetup_debugging\u001b[39m\u001b[34m(vs_code_path, enable_python_debugging, port)\u001b[39m\n\u001b[32m     24\u001b[39m \u001b[38;5;28;01mdef\u001b[39;00m\u001b[38;5;250m \u001b[39m\u001b[34msetup_debugging\u001b[39m(vs_code_path=PACKAGE_ROOT.parent, enable_python_debugging=\u001b[38;5;28;01mTrue\u001b[39;00m, port=\u001b[32m5678\u001b[39m):\n\u001b[32m     25\u001b[39m     \u001b[38;5;66;03m# By default the directory containing the .vscode folder is assumed to be\u001b[39;00m\n\u001b[32m     26\u001b[39m     \u001b[38;5;66;03m# one folder above the root nautilus_trader folder\u001b[39;00m\n\u001b[32m     27\u001b[39m     \u001b[38;5;28;01mif\u001b[39;00m enable_python_debugging:\n\u001b[32m---> \u001b[39m\u001b[32m28\u001b[39m         \u001b[43mdebugpy\u001b[49m\u001b[43m.\u001b[49m\u001b[43mlisten\u001b[49m\u001b[43m(\u001b[49m\u001b[43mport\u001b[49m\u001b[43m)\u001b[49m  \u001b[38;5;66;03m# noqa: T100\u001b[39;00m\n\u001b[32m     30\u001b[39m     \u001b[38;5;66;03m# Get current process info\u001b[39;00m\n\u001b[32m     31\u001b[39m     pid = os.getpid()\n",
      "\u001b[36mFile \u001b[39m\u001b[32m~/github/nautilus_trader/.venv/lib/python3.11/site-packages/debugpy/public_api.py:47\u001b[39m, in \u001b[36m_api.<locals>.apply.<locals>.wrapper\u001b[39m\u001b[34m(*args, **kwargs)\u001b[39m\n\u001b[32m     44\u001b[39m \u001b[38;5;28;01mfrom\u001b[39;00m\u001b[38;5;250m \u001b[39m\u001b[34;01mdebugpy\u001b[39;00m\u001b[34;01m.\u001b[39;00m\u001b[34;01mserver\u001b[39;00m\u001b[38;5;250m \u001b[39m\u001b[38;5;28;01mimport\u001b[39;00m api\n\u001b[32m     46\u001b[39m wrapped = \u001b[38;5;28mgetattr\u001b[39m(api, f.\u001b[34m__name__\u001b[39m)\n\u001b[32m---> \u001b[39m\u001b[32m47\u001b[39m \u001b[38;5;28;01mreturn\u001b[39;00m \u001b[43mwrapped\u001b[49m\u001b[43m(\u001b[49m\u001b[43m*\u001b[49m\u001b[43margs\u001b[49m\u001b[43m,\u001b[49m\u001b[43m \u001b[49m\u001b[43m*\u001b[49m\u001b[43m*\u001b[49m\u001b[43mkwargs\u001b[49m\u001b[43m)\u001b[49m\n",
      "\u001b[36mFile \u001b[39m\u001b[32m~/github/nautilus_trader/.venv/lib/python3.11/site-packages/debugpy/server/api.py:133\u001b[39m, in \u001b[36m_starts_debugging.<locals>.debug\u001b[39m\u001b[34m(address, **kwargs)\u001b[39m\n\u001b[32m    131\u001b[39m     \u001b[38;5;28;01mreturn\u001b[39;00m func(address, settrace_kwargs, **kwargs)\n\u001b[32m    132\u001b[39m \u001b[38;5;28;01mexcept\u001b[39;00m \u001b[38;5;167;01mException\u001b[39;00m:\n\u001b[32m--> \u001b[39m\u001b[32m133\u001b[39m     \u001b[43mlog\u001b[49m\u001b[43m.\u001b[49m\u001b[43mreraise_exception\u001b[49m\u001b[43m(\u001b[49m\u001b[33;43m\"\u001b[39;49m\u001b[38;5;132;43;01m{0}\u001b[39;49;00m\u001b[33;43m() failed:\u001b[39;49m\u001b[33;43m\"\u001b[39;49m\u001b[43m,\u001b[49m\u001b[43m \u001b[49m\u001b[43mfunc\u001b[49m\u001b[43m.\u001b[49m\u001b[34;43m__name__\u001b[39;49m\u001b[43m,\u001b[49m\u001b[43m \u001b[49m\u001b[43mlevel\u001b[49m\u001b[43m=\u001b[49m\u001b[33;43m\"\u001b[39;49m\u001b[33;43minfo\u001b[39;49m\u001b[33;43m\"\u001b[39;49m\u001b[43m)\u001b[49m\n",
      "\u001b[36mFile \u001b[39m\u001b[32m~/github/nautilus_trader/.venv/lib/python3.11/site-packages/debugpy/server/api.py:131\u001b[39m, in \u001b[36m_starts_debugging.<locals>.debug\u001b[39m\u001b[34m(address, **kwargs)\u001b[39m\n\u001b[32m    128\u001b[39m     settrace_kwargs[\u001b[33m\"\u001b[39m\u001b[33mdont_trace_end_patterns\u001b[39m\u001b[33m\"\u001b[39m] = (\u001b[38;5;28mstr\u001b[39m(\u001b[33m\"\u001b[39m\u001b[33mdebugpy_launcher.py\u001b[39m\u001b[33m\"\u001b[39m),)\n\u001b[32m    130\u001b[39m \u001b[38;5;28;01mtry\u001b[39;00m:\n\u001b[32m--> \u001b[39m\u001b[32m131\u001b[39m     \u001b[38;5;28;01mreturn\u001b[39;00m \u001b[43mfunc\u001b[49m\u001b[43m(\u001b[49m\u001b[43maddress\u001b[49m\u001b[43m,\u001b[49m\u001b[43m \u001b[49m\u001b[43msettrace_kwargs\u001b[49m\u001b[43m,\u001b[49m\u001b[43m \u001b[49m\u001b[43m*\u001b[49m\u001b[43m*\u001b[49m\u001b[43mkwargs\u001b[49m\u001b[43m)\u001b[49m\n\u001b[32m    132\u001b[39m \u001b[38;5;28;01mexcept\u001b[39;00m \u001b[38;5;167;01mException\u001b[39;00m:\n\u001b[32m    133\u001b[39m     log.reraise_exception(\u001b[33m\"\u001b[39m\u001b[38;5;132;01m{0}\u001b[39;00m\u001b[33m() failed:\u001b[39m\u001b[33m\"\u001b[39m, func.\u001b[34m__name__\u001b[39m, level=\u001b[33m\"\u001b[39m\u001b[33minfo\u001b[39m\u001b[33m\"\u001b[39m)\n",
      "\u001b[36mFile \u001b[39m\u001b[32m~/github/nautilus_trader/.venv/lib/python3.11/site-packages/debugpy/server/api.py:145\u001b[39m, in \u001b[36mlisten\u001b[39m\u001b[34m(address, settrace_kwargs, in_process_debug_adapter)\u001b[39m\n\u001b[32m    138\u001b[39m \u001b[38;5;129m@_starts_debugging\u001b[39m\n\u001b[32m    139\u001b[39m \u001b[38;5;28;01mdef\u001b[39;00m\u001b[38;5;250m \u001b[39m\u001b[34mlisten\u001b[39m(address, settrace_kwargs, in_process_debug_adapter=\u001b[38;5;28;01mFalse\u001b[39;00m):\n\u001b[32m    140\u001b[39m     \u001b[38;5;66;03m# Errors below are logged with level=\"info\", because the caller might be catching\u001b[39;00m\n\u001b[32m    141\u001b[39m     \u001b[38;5;66;03m# and handling exceptions, and we don't want to spam their stderr unnecessarily.\u001b[39;00m\n\u001b[32m    143\u001b[39m     \u001b[38;5;28;01mif\u001b[39;00m listen.called:\n\u001b[32m    144\u001b[39m         \u001b[38;5;66;03m# Multiple calls to listen() cause the debuggee to hang\u001b[39;00m\n\u001b[32m--> \u001b[39m\u001b[32m145\u001b[39m         \u001b[38;5;28;01mraise\u001b[39;00m \u001b[38;5;167;01mRuntimeError\u001b[39;00m(\u001b[33m\"\u001b[39m\u001b[33mdebugpy.listen() has already been called on this process\u001b[39m\u001b[33m\"\u001b[39m)\n\u001b[32m    147\u001b[39m     host, port = address\n\u001b[32m    148\u001b[39m     \u001b[38;5;28;01mif\u001b[39;00m in_process_debug_adapter:\n",
      "\u001b[31mRuntimeError\u001b[39m: debugpy.listen() has already been called on this process"
     ]
    }
   ],
   "source": [
    "# Setup debugging environment - run this cell first\n",
    "from nautilus_trader.test_kit.debug_helpers import setup_debugging\n",
    "\n",
    "\n",
    "# Set up debugging for VS Code (configures launch.json with Jupyter kernel PID)\n",
    "# This creates ALL debugging configurations automatically!\n",
    "# Also starts a debugpy sever the Python debugger can connect to\n",
    "setup_debugging()"
   ]
  },
  {
   "cell_type": "markdown",
   "id": "2",
   "metadata": {},
   "source": [
    "## Example: Parquet Catalog Mixed Debugging\n",
    "\n",
    "This example demonstrates mixed Python + Rust debugging using the parquet catalog.\n",
    "We'll write a QuoteTick using `catalog.write_data([quote_tick])` and read it back using `catalog.quote_ticks()`.\n",
    "\n",
    "**Set breakpoints in VS Code at (for example):**\n",
    "- `nautilus_trader/persistence/catalog/parquet.py` : put a breakpoint inside _query_rust\n",
    "- `nautilus_trader/crates/persistence/src/backend/session.rs` : put a breakpoint inside get_query_result"
   ]
  },
  {
   "cell_type": "code",
   "execution_count": 7,
   "id": "3",
   "metadata": {},
   "outputs": [
    {
     "name": "stdout",
     "output_type": "stream",
     "text": [
      "Created temporary directory: /var/folders/nd/rcmpr4n95bj16gpgr9h8x1540000gn/T/nautilus_debug_69e3rglp\n"
     ]
    }
   ],
   "source": [
    "import shutil\n",
    "import tempfile\n",
    "\n",
    "# Also works with the usual non-pyo3 InstrumentId, Price, etc.\n",
    "from nautilus_trader.core.nautilus_pyo3 import InstrumentId\n",
    "from nautilus_trader.core.nautilus_pyo3 import Price\n",
    "from nautilus_trader.core.nautilus_pyo3 import Quantity\n",
    "from nautilus_trader.core.nautilus_pyo3 import QuoteTick\n",
    "from nautilus_trader.persistence.catalog import ParquetDataCatalog\n",
    "\n",
    "\n",
    "# Create a temporary directory for our parquet files\n",
    "temp_dir = tempfile.mkdtemp(prefix=\"nautilus_debug_\")\n",
    "print(f\"Created temporary directory: {temp_dir}\")\n",
    "\n",
    "# Initialize parquet catalog\n",
    "catalog = ParquetDataCatalog(temp_dir)\n",
    "\n",
    "instrument_id = InstrumentId.from_str(\"EURUSD.SIM\")\n",
    "quote_tick = QuoteTick(\n",
    "    instrument_id=instrument_id,\n",
    "    bid_price=Price.from_str(\"1.0500\"),\n",
    "    ask_price=Price.from_str(\"1.0505\"),\n",
    "    bid_size=Quantity.from_str(\"100000\"),\n",
    "    ask_size=Quantity.from_str(\"75000\"),\n",
    "    ts_event=1_000_000_000,\n",
    "    ts_init=2_000_000_000,\n",
    ")\n",
    "\n",
    "catalog.write_data([quote_tick])"
   ]
  },
  {
   "cell_type": "code",
   "execution_count": 8,
   "id": "4",
   "metadata": {},
   "outputs": [],
   "source": [
    "read_ticks = catalog.quote_ticks()"
   ]
  },
  {
   "cell_type": "code",
   "execution_count": 16,
   "id": "d6e26ba3",
   "metadata": {},
   "outputs": [
    {
     "name": "stdout",
     "output_type": "stream",
     "text": [
      "/Users/arifkhan/github/nautilus_trader/nautilus_trader/core/nautilus_pyo3.cpython-311-darwin.so\n"
     ]
    }
   ],
   "source": [
    "import nautilus_trader.core.nautilus_pyo3 as _pyo3\n",
    "print(_pyo3.__file__)"
   ]
  },
  {
   "cell_type": "code",
   "execution_count": 9,
   "id": "5",
   "metadata": {},
   "outputs": [],
   "source": [
    "shutil.rmtree(temp_dir)"
   ]
  }
 ],
 "metadata": {
  "kernelspec": {
   "display_name": "nautilus-trader",
   "language": "python",
   "name": "python3"
  },
  "language_info": {
   "codemirror_mode": {
    "name": "ipython",
    "version": 3
   },
   "file_extension": ".py",
   "mimetype": "text/x-python",
   "name": "python",
   "nbconvert_exporter": "python",
   "pygments_lexer": "ipython3",
   "version": "3.11.13"
  }
 },
 "nbformat": 4,
 "nbformat_minor": 5
}
